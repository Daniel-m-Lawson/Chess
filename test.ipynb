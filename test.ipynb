{
 "cells": [
  {
   "cell_type": "code",
   "execution_count": null,
   "metadata": {},
   "outputs": [],
   "source": [
    "class Bishop:\n",
    "    def __init__(self, color):\n",
    "        self.color = color  # 'w' for white, 'b' for black\n",
    "\n",
    "    def get_color(self):\n",
    "        return self.color\n",
    "\n",
    "    def get_name(self):\n",
    "        return \"Bishop\"\n",
    "\n",
    "    def get_possible_moves(self, current_position):\n",
    "        \n",
    "        x, y = current_position\n",
    "        possible_moves = []\n"
   ]
  }
 ],
 "metadata": {
  "language_info": {
   "name": "python"
  }
 },
 "nbformat": 4,
 "nbformat_minor": 2
}
